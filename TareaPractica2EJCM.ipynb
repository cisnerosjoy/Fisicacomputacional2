{
  "cells": [
    {
      "cell_type": "markdown",
      "metadata": {
        "id": "view-in-github",
        "colab_type": "text"
      },
      "source": [
        "<a href=\"https://colab.research.google.com/github/cisnerosjoy/Fisicacomputacional2/blob/main/TareaPractica2EJCM.ipynb\" target=\"_parent\"><img src=\"https://colab.research.google.com/assets/colab-badge.svg\" alt=\"Open In Colab\"/></a>"
      ]
    },
    {
      "cell_type": "markdown",
      "metadata": {
        "id": "F4dAFULZtmZZ"
      },
      "source": [
        "<h1 align=\"center\">Física Computacional.</h1>\n",
        "<h1 align=\"center\">Semestre 2014-1</h1>\n",
        "\n",
        "<h2>Sergio A. Alcalá Corona </h2>\n",
        "\n",
        "<h2>Alumno:Edgar Joel Cisneros Montiel </h2>\n",
        "\n",
        "---\n",
        "### Daniel Rojo Mata\n",
        "### Rodrigo Vega Vilchis\n",
        "---"
      ]
    },
    {
      "cell_type": "markdown",
      "metadata": {
        "id": "SXwDWXAFtmZc"
      },
      "source": [
        "<h1 align=\"center\">Programación para la física computacional</h1>\n",
        "\n",
        "## Tarea-Práctica 2\n",
        "\n",
        "\n",
        "### Programación básica para la física\n",
        "\n",
        "---"
      ]
    },
    {
      "cell_type": "markdown",
      "metadata": {
        "id": "TPCvE-6ztmZd"
      },
      "source": [
        "### EJERCICIOS:"
      ]
    },
    {
      "cell_type": "markdown",
      "metadata": {
        "id": "ksqbK7cbtmZd"
      },
      "source": [
        "**1. Números de Catalan** Los numeros de Catalan $Cn$ son una secuencia de numeros enteros $1, 1, 2, 5, 14, 42, 132$ que juegan un papel importante en la mecanica cuantica y la teorıa de los sistemas\n",
        "desordenados. (Eran fundamentales para la prueba de Eugene Wigner de la llamada\n",
        "ley del semicırculo). Se definen por:\n",
        "\n",
        "<h3 align=\"center\">$C_{0} = 1 , C_{n+1} = {4n+2 \\over n+2}C_{n}$,</h3>  \n",
        "\n",
        "Escribe un programa que imprima en orden creciente todos los numeros de Catalan $Cn$ menores o iguales a $1\\times10^{24}\\$ (mil millones)."
      ]
    },
    {
      "cell_type": "code",
      "execution_count": null,
      "metadata": {
        "id": "aEcWIPLstmZe"
      },
      "outputs": [],
      "source": [
        "from math import *\n",
        "from numpy import *"
      ]
    },
    {
      "cell_type": "code",
      "execution_count": null,
      "metadata": {
        "id": "7Z4QO8m2tmZf",
        "outputId": "7285d71a-0cc4-432e-935e-2b718b97bb07"
      },
      "outputs": [
        {
          "name": "stdout",
          "output_type": "stream",
          "text": [
            "1\n",
            "1.0\n",
            "2.0\n",
            "5.0\n",
            "14.0\n",
            "42.0\n",
            "132.0\n",
            "429.0\n",
            "1430.0\n",
            "4862.0\n",
            "16796.0\n",
            "58786.0\n",
            "208012.0\n",
            "742900.0\n",
            "2674440.0\n",
            "9694845.0\n",
            "35357670.0\n",
            "129644790.0\n",
            "477638700.0\n",
            "1767263190.0\n",
            "6564120420.0\n",
            "24466267020.0\n",
            "91482563640.0\n",
            "343059613650.0\n",
            "1289904147324.0\n",
            "4861946401452.0\n",
            "18367353072152.0\n",
            "69533550916004.0\n",
            "263747951750360.0\n",
            "1002242216651368.0\n",
            "3814986502092304.0\n",
            "1.4544636039226908e+16\n",
            "5.55340648770482e+16\n",
            "2.1233613041224314e+17\n",
            "8.12944042149731e+17\n",
            "3.116285494907302e+18\n",
            "1.1959798385860456e+19\n",
            "4.5950804324621754e+19\n",
            "1.7673386278700676e+20\n",
            "6.804253717299761e+20\n",
            "2.6221270422764934e+21\n",
            "1.0113918591637903e+22\n",
            "3.904442991190447e+22\n",
            "1.5085347920508544e+23\n",
            "5.83300119592997e+23\n",
            "2.2571178540772493e+24\n",
            "8.740328711533179e+24\n",
            "3.386877375719107e+25\n",
            "1.3132789824216945e+26\n",
            "5.0955224517961745e+26\n",
            "1.9782616577561618e+27\n",
            "7.684785670514321e+27\n",
            "2.9869166945772643e+28\n",
            "1.161578714557825e+29\n",
            "4.519597180279538e+29\n",
            "1.75941461660882e+30\n",
            "6.852456927844878e+30\n",
            "2.670095285677487e+31\n",
            "1.0408846028912238e+32\n",
            "4.059449951275773e+32\n",
            "1.583850964596121e+33\n",
            "6.18212795858486e+33\n",
            "2.413973774304564e+34\n",
            "9.429585055877203e+34\n",
            "3.684791698758168e+35\n",
            "1.4404185731509203e+36\n",
            "5.632681584560315e+36\n",
            "2.2033725021956526e+37\n",
            "8.621892399896032e+37\n",
            "3.374855025102161e+38\n",
            "1.3214221084202828e+39\n",
            "5.1755699246461075e+39\n",
            "2.0276890389709408e+40\n",
            "7.9463489365077405e+40\n",
            "3.1149687831110344e+41\n",
            "1.2213956544303793e+42\n",
            "4.790408930363306e+42\n",
            "1.8793142726809892e+43\n",
            "7.374524361153249e+43\n",
            "2.89450081175265e+44\n",
            "1.1363595779473368e+45\n",
            "4.4622900499883224e+45\n",
            "1.7526585015616785e+46\n",
            "6.885444113278022e+46\n",
            "2.705574510393952e+47\n",
            "1.0633537029222742e+48\n",
            "4.180080073556526e+48\n",
            "1.643531483466543e+49\n",
            "6.463326058576293e+49\n",
            "2.5422415830400083e+50\n",
            "1.0001346008003548e+51\n",
            "3.935312233584005e+51\n",
            "1.548735782249189e+52\n",
            "6.096087653534043e+52\n",
            "2.3999334551807703e+53\n",
            "9.449737979774283e+53\n",
            "3.7214432044059555e+54\n",
            "1.465792935612958e+55\n",
            "5.774335806960138e+55\n",
            "2.275088307942294e+56\n"
          ]
        }
      ],
      "source": [
        "N=100 #cuantas veces va ser que se repetira la accion del for\n",
        "C0=1 #primer termino\n",
        "Cn=C0\n",
        "for n in range(N):\n",
        "    print(Cn) #Aqui imprime el primer termino de Cn y despues se sigue con los demas del for\n",
        "\n",
        "    Cn=((4*n+2)/(n+2))*Cn\n",
        "\n",
        "    #print(Cn) aqui no sale el primer termino y solo son los del for"
      ]
    },
    {
      "cell_type": "markdown",
      "metadata": {
        "id": "NB5ZCd4vtmZg"
      },
      "source": []
    },
    {
      "cell_type": "markdown",
      "metadata": {
        "id": "RIkUpxWNtmZg"
      },
      "source": [
        "**2. La constante de Madelung**: Escribe un programa para calcular e imprimir la constante de Madelung para el cloruro\n",
        "de sodio. Utiliza un valor de L tan grande como puedas, sin dejar que tu programa se\n",
        "ejecutar en un tiempo razonable (un minuto o menos)."
      ]
    },
    {
      "cell_type": "code",
      "execution_count": null,
      "metadata": {
        "id": "L7qTpshltmZh"
      },
      "outputs": [],
      "source": []
    },
    {
      "cell_type": "markdown",
      "metadata": {
        "id": "6oum-wJftmZh"
      },
      "source": []
    },
    {
      "cell_type": "code",
      "execution_count": null,
      "metadata": {
        "id": "-M18OB4btmZh"
      },
      "outputs": [],
      "source": []
    },
    {
      "cell_type": "markdown",
      "metadata": {
        "id": "gFR3h_sStmZi"
      },
      "source": [
        "**3. Coeficientes binomiales:**"
      ]
    },
    {
      "cell_type": "markdown",
      "metadata": {
        "id": "im4whzt-tmZi"
      },
      "source": [
        "a) Utiliza esta formula para escribir una funcion llamada  $binomial(n,k)$ (o como tu\n",
        "quieras) que calcule el coeficiente binomial para un $n$ y $k$ dados. Asegurate de que tu funcion devuelva la respuesta en forma de un numero entero (no flotante) y proporcione el valor correcto de 1 para el caso en que $k = 0$."
      ]
    },
    {
      "cell_type": "code",
      "execution_count": null,
      "metadata": {
        "id": "5_QI8x5PtmZi",
        "outputId": "59341698-5bef-4a20-da53-20631490fa94"
      },
      "outputs": [
        {
          "name": "stdout",
          "output_type": "stream",
          "text": [
            "Ingresa el valor de n: 5\n",
            "ingresa el valor de k: 3\n"
          ]
        },
        {
          "data": {
            "text/plain": [
              "10"
            ]
          },
          "execution_count": 29,
          "metadata": {},
          "output_type": "execute_result"
        }
      ],
      "source": [
        "from math import factorial as fac\n",
        "n = int(input(\"Ingresa el valor de n: \"))\n",
        "k = int(input(\"ingresa el valor de k: \"))\n",
        "def binomial(n,k):\n",
        "    if k == 1 or k == n:\n",
        "        return 1\n",
        "\n",
        "    if k > n:\n",
        "        return 0\n",
        "\n",
        "    if n>k:\n",
        "        a =fac(n)\n",
        "        b= fac(k)\n",
        "        c= fac(n-k)\n",
        "        d=a/(b*c)\n",
        "        return d\n",
        "\n",
        "\n",
        "int(binomial(n,k))"
      ]
    },
    {
      "cell_type": "markdown",
      "metadata": {
        "id": "Elmz5XCetmZj"
      },
      "source": [
        "b) Usando tu funcion, escribe un programa que imprima las primeras 20 lıneas del\n",
        "“triangulo de Pascal’’. La nesima lınea del triangulo de Pascal contiene $n + 1$\n",
        "numeros, que son los coeficientes $({n \\over 0}), ({n \\over 1})$, y as ́ı sucesivamente hasta $({n \\over n})$."
      ]
    },
    {
      "cell_type": "code",
      "execution_count": null,
      "metadata": {
        "id": "o0jTr1hntmZj"
      },
      "outputs": [],
      "source": []
    },
    {
      "cell_type": "code",
      "execution_count": null,
      "metadata": {
        "id": "86kUk4CItmZj"
      },
      "outputs": [],
      "source": []
    },
    {
      "cell_type": "code",
      "execution_count": null,
      "metadata": {
        "id": "tDk1jbQstmZj"
      },
      "outputs": [],
      "source": []
    },
    {
      "cell_type": "code",
      "execution_count": null,
      "metadata": {
        "id": "oy779JHZtmZj"
      },
      "outputs": [],
      "source": []
    },
    {
      "cell_type": "markdown",
      "metadata": {
        "id": "WA52WIeYtmZk"
      },
      "source": [
        "**4. Órbitas planetarias:** En el espacio, la órbita de un cuerpo alrededor de otro (como un planeta alrededor del Sol), no necesariamente es circular. En general, toma la forma de una elipse, con el cuerpo a veces más cerca y otras más lejos. Si tenemos la distancia $\\ell_1$ de máxima aproximación de un planeta al Sol (su *perihelio*), y su velocidad lineal $v_1$ en el perihelio, entonces cualquier otra propiedad de la órbita se puede calcular a partir de estas dos cantidades de la siguiente manera:"
      ]
    },
    {
      "cell_type": "markdown",
      "metadata": {
        "id": "KxvSArOjtmZk"
      },
      "source": [
        "   \n",
        "**a)** La segunda ley de Kepler nos dice que la distancia $\\ell_2$ y la velocidad $v_2$ del planeta en su punto más distante, o *afelio*, satisfacen que $\\ell_2 v_2 = \\ell_1 v_1$.  Al mismo tiempo, la energía total, cinética más la gravitatoria, de un planeta con velocidad $v$ y distancia $r$ del Sol está dada por:\n",
        "\n",
        "<h3 align=\"center\">$E = \\frac{1}{2} m v^2 - G {mM\\over r}$,</h3>\n",
        "        \n",
        "donde $m$ es la masa del planeta, $M=1.9891\\times10^{30}\\,$kg es la masa del Sol y $G=6.6738\\times10^{-11}\\,\\mathrm{m^3\\,kg^{-1}\\,s^{-2}}$ es la constante gravitatoria de Newton. Dado que la energía debe conservarse, demuestre que $v_2$ es la raíz más pequeña de la ecuación cuadrática:\n",
        "\n",
        "<h3 align=\"center\">$v_2^2 - {2GM\\over v_1\\ell_1} v_2 - \\biggl[ v_1^2 - {2GM\\over\\ell_1} \\biggr] = 0$.</h3>\n",
        "\n",
        "Una vez que tenemos $v_2$ podemos calcular $\\ell_2$  usando la relación $\\ell_2 = \\ell_1 v_1/v_2$."
      ]
    },
    {
      "cell_type": "code",
      "execution_count": null,
      "metadata": {
        "id": "BGWDoowLtmZk"
      },
      "outputs": [],
      "source": []
    },
    {
      "cell_type": "markdown",
      "metadata": {
        "id": "KoPxOCc0tmZk"
      },
      "source": [
        "**b)** Dados los valores de $v_1$, $\\ell_1$, y $\\ell_2$; otros parámetros de la órbita se obtienen mediante fórmulas simples que pueden derivarse de las leyes de Kepler y del hecho de que la órbita es una elipse:\n",
        "\n",
        "<h4 align=\"center\">Semieje mayor: $\\; \\; \\; a = \\frac{1}{2}(\\ell_1+\\ell_2)$,</h4>\n",
        "\n",
        "<h4 align=\"center\">Semieje menor: $\\; \\; \\; b = \\sqrt{\\ell_1\\ell_2}$,</h4>\n",
        "\n",
        "<h4 align=\"center\">Período orbital: $\\; \\; \\; T = {2\\pi ab\\over\\ell_1 v_1}$,</h4>\n",
        "\n",
        "<h4 align=\"center\">Excentricidad orbital: $\\; \\; \\; e = {\\ell_2-\\ell_1\\over\\ell_2+\\ell_1}$.</h4>\n",
        "\n",
        "Escribe un programa que le pida al usuario que ingrese la distancia al Sol y la velocidad en el perihelio; para que calcule e imprima las cantidades:\n",
        "\n",
        "$\\ell_2$, $v_2$, $T$ y $e$."
      ]
    },
    {
      "cell_type": "code",
      "execution_count": null,
      "metadata": {
        "scrolled": false,
        "id": "4M67mg7GtmZl",
        "outputId": "667727fb-3621-45f3-e91f-c7892cebb239"
      },
      "outputs": [
        {
          "name": "stdout",
          "output_type": "stream",
          "text": [
            "Ingresa la distancia al sol en el perihelio en metros: 1.4710e11\n",
            "Ingresa la velocidad en el perihelio en metros sobre segundos: 30287\n",
            "Velocidad del planeta v2= 29305.399177261308 m/s\n",
            "Distancia del planeta l2= 152027197208.65976 m\n",
            "Periodo del planeta T= 31543060.207886893 s\n",
            "Excentricidad del planeta e= 0.016471913134741584\n"
          ]
        }
      ],
      "source": [
        "#Para la tierra\n",
        "G=6.6738e-11\n",
        "M=1.9891e30\n",
        "l1=float(input(\"Ingresa la distancia al sol en el perihelio en metros: \"))\n",
        "v1=float(input(\"Ingresa la velocidad en el perihelio en metros sobre segundos: \"))\n",
        "\n",
        "v2 = ((2*G*M)/(v1*l1)) - v1\n",
        "\n",
        "l2=(l1*v1)/v2\n",
        "\n",
        "\n",
        "T = (pi*((l1*l2)**(1/2))*(l1 + l2))/(l1*v1)\n",
        "\n",
        "e=(l2-l1)/(l2+l1)\n",
        "\n",
        "print(\"Velocidad del planeta v2=\",v2,\"m/s\")\n",
        "print(\"Distancia del planeta l2=\",l2,\"m\")\n",
        "print(\"Periodo del planeta T=\",T,\"s\")\n",
        "print(\"Excentricidad del planeta e=\",e)"
      ]
    },
    {
      "cell_type": "code",
      "execution_count": null,
      "metadata": {
        "id": "MliQatrctmZl"
      },
      "outputs": [],
      "source": []
    },
    {
      "cell_type": "markdown",
      "metadata": {
        "id": "9UQGgxNrtmZl"
      },
      "source": [
        "**c)** Prueba tu programa haciendo que calcule las propiedades de las órbitas de la Tierra (para las cuales $\\ell_1=1.4710\\times10^{11}\\,$m y $v_1=3.0287\\times10^4\\,\\mathrm{m\\,s^{-1}}$)  y del cometa Halley ($\\ell_1=8.7830\\times10^{10}\\,$m y $v_1=5.4529\\times10^4\\,\\mathrm{m\\,s^{-1}}$). Entre otras cosas, deberías encontrar que el período orbital de la Tierra es de un año y el del cometa Halley es de unos 76 años."
      ]
    },
    {
      "cell_type": "code",
      "execution_count": null,
      "metadata": {
        "id": "0t28JikJtmZl",
        "outputId": "d3ee3ed9-c9c6-449f-8e15-a91cd0b7a9a8"
      },
      "outputs": [
        {
          "name": "stdout",
          "output_type": "stream",
          "text": [
            "Ingresa la distancia al sol en el perihelio en metros: 8.7830e10\n",
            "Ingresa la velocidad en el perihelio en metros sobre segundos: 5.4529e4\n",
            "Velocidad del planeta v2= 906.680696919153 m/s\n",
            "Distancia del planeta l2= 5282214660876.42 m\n",
            "Periodo del planeta T= 2399312511.8451734 s\n",
            "Excentricidad del planeta e= 0.967288912645406\n"
          ]
        }
      ],
      "source": [
        "#para el cometa Halley\n",
        "G=6.6738e-11\n",
        "M=1.9891e30\n",
        "l1=float(input(\"Ingresa la distancia al sol en el perihelio en metros: \"))\n",
        "v1=float(input(\"Ingresa la velocidad en el perihelio en metros sobre segundos: \"))\n",
        "\n",
        "v2 = ((2*G*M)/(v1*l1)) - v1\n",
        "\n",
        "l2=(l1*v1)/v2\n",
        "\n",
        "\n",
        "T = (pi*((l1*l2)**(1/2))*(l1 + l2))/(l1*v1)\n",
        "\n",
        "e=(l2-l1)/(l2+l1)\n",
        "\n",
        "print(\"Velocidad del planeta v2=\",v2,\"m/s\")\n",
        "print(\"Distancia del planeta l2=\",l2,\"m\")\n",
        "print(\"Periodo del planeta T=\",T,\"s\")\n",
        "print(\"Excentricidad del planeta e=\",e)"
      ]
    },
    {
      "cell_type": "code",
      "execution_count": null,
      "metadata": {
        "id": "yGRqvF58tmZm"
      },
      "outputs": [],
      "source": []
    },
    {
      "cell_type": "markdown",
      "metadata": {
        "id": "CmLcPjKYtmZm"
      },
      "source": [
        "**5. La fórmula semiempírica de la masa (FSM)**\n",
        "\n",
        "En física nuclear, la **fórmula de Weizsäcker** (conocida también como fórmula semiempírica) sirve para evaluar la masa y otras propiedades de un núcleo atómico; y está basada parcialmente en mediciones empíricas. En particular la fórmula se usa para calcular la \\textbf{\\textit{energía de enlace nuclear aproximada}} $B$, de un núcleo atómico con número atómico $Z$ y número de masa $A$:\n",
        "\n",
        "<h3 align=\"center\">$B = a_1 A - a_2 A^{2/3} - a_3 {Z^2\\over A^{1/3}} - a_4 {(A - 2Z)^2\\over A} + {a_5\\over A^{1/2}}$,</h3>\n",
        "\n",
        "donde, en unidades de millones de electrón-volts, las constantes son $a_1=15.8$, $a_2=18.3$, $a_3=0.714$, $a_4=23.2$ y          \n",
        "<h6 align=\"center\">\n",
        "$a_5 =\n",
        "  \\left \\{\n",
        "    \\begin{aligned}\n",
        "      0 & \\; \\text{si} \\ A \\; \\text{es impar,} \\\\\n",
        "      12.0 & \\; \\text{si} \\ A \\; \\text{y} \\; Z \\; \\text{son pares (ambos),} \\\\\n",
        "      -12.0 & \\; \\text{si} \\ A \\; \\text{es par y} \\; Z \\; \\text{impar}\n",
        "    \\end{aligned}\n",
        "  \\right.\n",
        "$\n",
        "</h6>"
      ]
    },
    {
      "cell_type": "markdown",
      "metadata": {
        "id": "PoM2k9zWtmZm"
      },
      "source": [
        "**a)** Escribe un programa que tome como entrada los valores de $A$ y $Z$, e imprima la energía de enlace $B$ para el átomo correspondiente. Usa tu programa para encontrar la energía de enlace de un átomo con $A=58$ y $Z=28$ (Hint: La respuesta correcta es alrededor de los $490\\,$MeV)."
      ]
    },
    {
      "cell_type": "code",
      "execution_count": null,
      "metadata": {
        "id": "w9GMlMWQtmZm",
        "outputId": "05b4e757-be6a-4bcd-a4dc-dd4b5c09201f"
      },
      "outputs": [
        {
          "name": "stdout",
          "output_type": "stream",
          "text": [
            "Ingresa un valor entero de A: 58\n",
            "Ingresa un valor entero de Z: 28\n",
            "LA energía de enlace nuclear aproximada es 497.5620206224374 MeV\n"
          ]
        }
      ],
      "source": [
        "a1=15.8\n",
        "a2=18.3\n",
        "a3=0.714\n",
        "a4=23.2\n",
        "A=int(input(\"Ingresa un valor entero de A: \"))\n",
        "Z=int(input(\"Ingresa un valor entero de Z: \"))\n",
        "\n",
        "if A%2==0 and Z%2==0: #aqui formamos las condiciones que se piden de A y Z para la a5\n",
        "    a5=12\n",
        "elif A%2==0 and Z%2==1:\n",
        "    a5=-12\n",
        "elif A%2==1:\n",
        "    a5=0\n",
        "\n",
        "B=(a1*A)-(a2*(A**(2/3)))-(a3*((Z**2)/(A**(1/3))))-(a4*(((A-(2*Z))**2)/A))+(a5/(A**(1/2)))\n",
        "\n",
        "print(\"LA energía de enlace nuclear aproximada es\",B,\"MeV\")"
      ]
    },
    {
      "cell_type": "code",
      "execution_count": null,
      "metadata": {
        "id": "r7nH0Y8VtmZn"
      },
      "outputs": [],
      "source": []
    },
    {
      "cell_type": "markdown",
      "metadata": {
        "id": "0428DQFltmZn"
      },
      "source": [
        "**b)** Modifica el programa del inciso anterior, para escribir una segunda versión que imprima no la energía de enlace total $B$, sino la energía de unión por nucleón, que es $B/A$."
      ]
    },
    {
      "cell_type": "code",
      "execution_count": null,
      "metadata": {
        "id": "Dmnz7EgAtmZn",
        "outputId": "049796ec-4a58-4372-c88c-ac878a8e2634"
      },
      "outputs": [
        {
          "name": "stdout",
          "output_type": "stream",
          "text": [
            "Ingresa un valor entero de A: 58\n",
            "Ingresa un valor entero de Z: 28\n",
            "La energía de unión por nucleón máxima es 8.578655527973059 MeV\n"
          ]
        }
      ],
      "source": [
        "a1=15.8\n",
        "a2=18.3\n",
        "a3=0.714\n",
        "a4=23.2\n",
        "A=int(input(\"Ingresa un valor entero de A: \"))\n",
        "Z=int(input(\"Ingresa un valor entero de Z: \"))\n",
        "\n",
        "if A%2==0 and Z%2==0: #aqui formamos las condiciones que se piden de A y Z para la a5\n",
        "    a5=12\n",
        "elif A%2==0 and Z%2==1:\n",
        "    a5=-12\n",
        "elif A%2==1:\n",
        "    a5=0\n",
        "\n",
        "B=(a1*A)-(a2*(A**(2/3)))-(a3*((Z**2)/(A**(1/3))))-(a4*(((A-(2*Z))**2)/A))+(a5/(A**(1/2)))\n",
        "\n",
        "print(\"La energía de unión por nucleón máxima es\", B/A, \"MeV\")"
      ]
    },
    {
      "cell_type": "code",
      "execution_count": null,
      "metadata": {
        "id": "vq1Vxrt9tmZn"
      },
      "outputs": [],
      "source": []
    },
    {
      "cell_type": "markdown",
      "metadata": {
        "id": "NUZ25ryQtmZn"
      },
      "source": [
        "**c)** Escribe una tercera versión del programa para que tome como entrada solo un valor del número atómico $Z$ y luego pase por todos los valores de $A$ desde $A=Z$ hasta $A=3Z$, para encontrar el que tiene la mayor energía de enlace por nucleón . Este es el núcleo más estable con el número atómico dado. Haz que tu programa imprima el valor de $A$ para este núcleo más estable y el valor de la energía de enlace por nucleón."
      ]
    },
    {
      "cell_type": "code",
      "execution_count": null,
      "metadata": {
        "id": "SAaUbkoWtmZo",
        "outputId": "4b05f201-215b-4ef8-9963-ca70ac9cad0f"
      },
      "outputs": [
        {
          "name": "stdout",
          "output_type": "stream",
          "text": [
            "Ingresa el número atómico:28\n",
            "La energía de unión por nucleón máxima es 8.432655535147047 MeV, A=  56\n"
          ]
        }
      ],
      "source": [
        "from numpy import array #importamos la biblioteca que necesitamos\n",
        "a1=15.8\n",
        "a2=18.3\n",
        "a3=0.714\n",
        "a4=23.2\n",
        "\n",
        "Z=int(input(\"Ingresa el número atómico:\"))\n",
        "#Creamos listas vacías\n",
        "M = []\n",
        "N = []\n",
        "#creamos un ciclo for para el valor de B/A\n",
        "for n in range(1,4):\n",
        "    A=n*Z\n",
        "    if A%2==0 and Z%2==0: #aqui formamos las condiciones que se piden de A y Z para la a5\n",
        "        a5=12\n",
        "    elif A%2==0 and Z%2==1:\n",
        "        a5=-12\n",
        "    elif A%2==1:\n",
        "        a5=0\n",
        "\n",
        "    B=(a1*A)-(a2*(A**(2/3)))-(a3*((Z**2)/(A**(1/3))))-(a4*(((A-(2*Z))**2)/A))+(a5/(A**(1/2)))\n",
        "    C=B/A\n",
        "\n",
        "#Agregamos los valores a las listas\n",
        "    M.append(C)\n",
        "    N.append(A)\n",
        "\n",
        "#Necesitamos el valor maximo\n",
        "w= max(M)\n",
        "x=M.index(w)\n",
        "y=N[x]\n",
        "\n",
        "print(\"La energía de unión por nucleón máxima es\",w,\"MeV, A= \",y)"
      ]
    },
    {
      "cell_type": "code",
      "execution_count": null,
      "metadata": {
        "id": "qPyDK4eYtmZo"
      },
      "outputs": [],
      "source": []
    },
    {
      "cell_type": "markdown",
      "metadata": {
        "id": "26sfhpUntmZo"
      },
      "source": [
        "**d)** Finalmente, escribe una cuarta versión del programa que, en lugar de tomar $Z$ como entrada, se ejecute a través de todos los valores de $Z$ de 1 a 100 e imprima el valor más estable de $A$ para cada uno. ¿A qué valor de $Z$ se produce la energía de enlace máxima por nucleón? (La respuesta correcta, en la vida real, es $Z=28$, que corresponde al Níquel)."
      ]
    },
    {
      "cell_type": "code",
      "execution_count": null,
      "metadata": {
        "id": "DhNySZ7ftmZp",
        "outputId": "27e74780-a065-4b4a-8aef-f3c1871be339"
      },
      "outputs": [
        {
          "name": "stdout",
          "output_type": "stream",
          "text": [
            "3\n",
            "4\n",
            "6\n",
            "8\n",
            "10\n",
            "12\n",
            "14\n",
            "16\n",
            "18\n",
            "20\n",
            "22\n",
            "24\n",
            "26\n",
            "28\n",
            "30\n",
            "32\n",
            "34\n",
            "36\n",
            "38\n",
            "40\n",
            "42\n",
            "44\n",
            "46\n",
            "48\n",
            "50\n",
            "52\n",
            "54\n",
            "56\n",
            "58\n",
            "60\n",
            "62\n",
            "64\n",
            "66\n",
            "68\n",
            "70\n",
            "72\n",
            "74\n",
            "76\n",
            "78\n",
            "80\n",
            "82\n",
            "84\n",
            "86\n",
            "88\n",
            "90\n",
            "92\n",
            "94\n",
            "96\n",
            "98\n",
            "100\n",
            "102\n",
            "104\n",
            "106\n",
            "108\n",
            "110\n",
            "112\n",
            "114\n",
            "116\n",
            "118\n",
            "120\n",
            "122\n",
            "124\n",
            "126\n",
            "128\n",
            "130\n",
            "132\n",
            "134\n",
            "136\n",
            "138\n",
            "140\n",
            "142\n",
            "144\n",
            "146\n",
            "148\n",
            "150\n",
            "152\n",
            "231\n",
            "234\n",
            "237\n",
            "240\n",
            "243\n",
            "246\n",
            "249\n",
            "252\n",
            "255\n",
            "258\n",
            "261\n",
            "264\n",
            "267\n",
            "270\n",
            "273\n",
            "276\n",
            "279\n",
            "282\n",
            "285\n",
            "288\n",
            "291\n",
            "294\n",
            "297\n",
            "300\n",
            "24\n"
          ]
        }
      ],
      "source": [
        "a1=15.8\n",
        "a2=18.3\n",
        "a3=0.714\n",
        "a4=23.2\n",
        "Z=int\n",
        "biggerC = 0.0\n",
        "biggerZ = 0.0\n",
        "for m in list(range(1,101)):\n",
        "    Z = m\n",
        "    bigA = 0.0\n",
        "    bigC = 0.0\n",
        "    for n in range(1,4):\n",
        "        A=n*Z\n",
        "        if A%2==0 and Z%2==0:\n",
        "            a5=12\n",
        "        elif A%2==0 and Z%2==1:\n",
        "            a5=-12\n",
        "        elif A%2==1:\n",
        "            a5=0\n",
        "        B=(a1*A)-(a2*(A**(2/3)))-(a3*((Z**2)/(A**(1/3))))-(a4*(((A-(2*Z))**2)/A))+(a5/(A**(1/2)))\n",
        "        C=B/A\n",
        "        if C > bigC:\n",
        "            bigC = C\n",
        "            bigA = A\n",
        "            bigZ = Z\n",
        "        if bigC > biggerC:\n",
        "            biggerC = bigC\n",
        "            biggerZ = bigZ\n",
        "    print(bigA)\n",
        "print(biggerZ)"
      ]
    },
    {
      "cell_type": "code",
      "execution_count": null,
      "metadata": {
        "id": "rFug3fGCtmZp"
      },
      "outputs": [],
      "source": []
    }
  ],
  "metadata": {
    "kernelspec": {
      "display_name": "Python 3 (ipykernel)",
      "language": "python",
      "name": "python3"
    },
    "language_info": {
      "codemirror_mode": {
        "name": "ipython",
        "version": 3
      },
      "file_extension": ".py",
      "mimetype": "text/x-python",
      "name": "python",
      "nbconvert_exporter": "python",
      "pygments_lexer": "ipython3",
      "version": "3.11.4"
    },
    "colab": {
      "provenance": [],
      "include_colab_link": true
    }
  },
  "nbformat": 4,
  "nbformat_minor": 0
}